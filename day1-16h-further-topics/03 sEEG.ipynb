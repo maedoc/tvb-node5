{
 "cells": [
  {
   "cell_type": "markdown",
   "metadata": {},
   "source": [
    "# sEEG"
   ]
  },
  {
   "cell_type": "markdown",
   "metadata": {
    "collapsed": true
   },
   "source": [
    "![seeg-schema-front](img/seeg-schema-front.png)"
   ]
  },
  {
   "cell_type": "markdown",
   "metadata": {},
   "source": [
    "![seeg](img/seeg_tf_pre_ictal2.PNG)"
   ]
  },
  {
   "cell_type": "markdown",
   "metadata": {},
   "source": [
    "Require registration of T1 & an image with electrodes (T1, or CT ideally)"
   ]
  },
  {
   "cell_type": "code",
   "execution_count": 4,
   "metadata": {
    "collapsed": true
   },
   "outputs": [
    {
     "name": "stderr",
     "output_type": "stream",
     "text": [
      "bash: line 2: /opt/freesurfer/subjects/junch/seeg/ELEC.nii.gz: No such file or directory\n",
      "Image Exception : #22 :: ERROR: Could not open image /opt/freesurfer/subjects/junch/mri/T1.RAS\n",
      "terminate called after throwing an instance of 'RBD_COMMON::BaseException'\n",
      "bash: line 6:   757 Aborted                 flirt -in $sd/seeg/ELEC.nii.gz -ref $sd/mri/T1.RAS.nii.gz -omat $sd/seeg/ELEC_to_T1.mat -out $sd/seeg/ELEC_in_T1.nii.gz $regopts\n"
     ]
    }
   ],
   "source": [
    "%%bash\n",
    "sd=$SUBJECTS_DIR/junch\n",
    "mri_convert $< $sd/seeg/ELEC.nii.gz --out_orientation RAS\n",
    "flirt -in $sd/seeg/ELEC.nii.gz -ref $sd/mri/T1.RAS.nii.gz \\\n",
    "    -omat $sd/seeg/ELEC_to_T1.mat \\\n",
    "    -out $sd/seeg/ELEC_in_T1.nii.gz \\\n",
    "    $regopts"
   ]
  },
  {
   "cell_type": "markdown",
   "metadata": {},
   "source": [
    "Verifying the alignment: T1 in grey, CT in red/yellow\n",
    "\n",
    "![ct-coreg](img/ct-coreg.png)"
   ]
  },
  {
   "cell_type": "markdown",
   "metadata": {},
   "source": [
    "Mask the image with FreeSurfer's brain mask (`$SUBJECTS_DIR/$SUBJECT/mri/brain.mgz`)\n",
    "\n",
    "![ct-coreg-2](img/ct-coreg-2.png)\n",
    "\n",
    "The exact x-y-z coordinates of each contact can be determined, depending on the exact dataset. The end result is a sEEG sensor file,"
   ]
  },
  {
   "cell_type": "code",
   "execution_count": 5,
   "metadata": {},
   "outputs": [
    {
     "name": "stdout",
     "output_type": "stream",
     "text": [
      "B'0\t-29.808314\t-18.415402\t-37.230811\r\n",
      "B'1\t-33.185887\t-18.179505\t-36.905408\r\n",
      "B'2\t-36.563460\t-17.943609\t-36.580004\r\n",
      "B'3\t-39.941032\t-17.707712\t-36.254601\r\n",
      "B'4\t-43.318605\t-17.471816\t-35.929198\r\n",
      "B'5\t-46.696178\t-17.235919\t-35.603795\r\n",
      "B'6\t-50.073750\t-17.000023\t-35.278392\r\n",
      "B'7\t-53.451323\t-16.764127\t-34.952988\r\n",
      "B'8\t-56.828896\t-16.528230\t-34.627585\r\n",
      "B'9\t-60.206468\t-16.292334\t-34.302182\r\n"
     ]
    }
   ],
   "source": [
    "!head junch_seeg.txt"
   ]
  },
  {
   "cell_type": "markdown",
   "metadata": {},
   "source": [
    "which can be used to create an sEEG sensors object"
   ]
  },
  {
   "cell_type": "code",
   "execution_count": 24,
   "metadata": {
    "collapsed": true
   },
   "outputs": [],
   "source": [
    "from tvb.datatypes.sensors import SensorsInternal\n",
    "import numpy as np\n",
    "\n",
    "xyz = np.loadtxt('junch_seeg.txt', usecols=(1,2,3))\n",
    "\n",
    "with open('junch_seeg.txt', 'r') as fd:\n",
    "    labels = [line.split()[0] for line in fd.readlines()]\n",
    "\n",
    "sens_seeg = SensorsInternal(\n",
    "    locations=xyz,\n",
    "    labels=labels,\n",
    "    number_of_sensors=len(xyz)\n",
    ")"
   ]
  },
  {
   "cell_type": "markdown",
   "metadata": {},
   "source": [
    "This sensors object would be used for simulation as previously shown, and TVB will automatically compute a gain matrix using a simple analytic form.\n",
    "\n",
    "OpenMEEG or FEM software can be used to construct more realistic sEEG forward models."
   ]
  }
 ],
 "metadata": {
  "kernelspec": {
   "display_name": "Python 2",
   "language": "python",
   "name": "python2"
  },
  "language_info": {
   "codemirror_mode": {
    "name": "ipython",
    "version": 2
   },
   "file_extension": ".py",
   "mimetype": "text/x-python",
   "name": "python",
   "nbconvert_exporter": "python",
   "pygments_lexer": "ipython2",
   "version": "2.7.13"
  }
 },
 "nbformat": 4,
 "nbformat_minor": 2
}
