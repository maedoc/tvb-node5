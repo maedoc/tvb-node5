{
 "cells": [
  {
   "cell_type": "code",
   "execution_count": 72,
   "metadata": {
    "slideshow": {
     "slide_type": "skip"
    }
   },
   "outputs": [
    {
     "name": "stdout",
     "output_type": "stream",
     "text": [
      "[NbConvertApp] Converting notebook further-topics-meg-seeg.ipynb to slides\n",
      "[NbConvertApp] Writing 333594 bytes to further-topics-meg-seeg.slides.html\n",
      "[NbConvertApp] Redirecting reveal.js requests to https://cdnjs.cloudflare.com/ajax/libs/reveal.js/3.1.0\n",
      "Serving your slides at http://0.0.0.0:8000/further-topics-meg-seeg.slides.html\n",
      "Use Control-C to stop this server\n",
      "WARNING:tornado.access:404 GET /custom.css (172.17.0.1) 2.38ms\n",
      "^C\n",
      "\n",
      "Interrupted\n"
     ]
    }
   ],
   "source": [
    "!jupyter nbconvert further-topics-meg-seeg.ipynb --to slides --ServePostProcessor.ip=0.0.0.0 --post serve"
   ]
  },
  {
   "cell_type": "markdown",
   "metadata": {
    "slideshow": {
     "slide_type": "slide"
    }
   },
   "source": [
    "# Hands-on MEG & sEEG\n",
    "\n",
    "## TVB Node #5 Marseille\n",
    "\n",
    "_Marmaduke Woodman_"
   ]
  },
  {
   "cell_type": "markdown",
   "metadata": {
    "slideshow": {
     "slide_type": "slide"
    }
   },
   "source": [
    "# Outline\n",
    "\n",
    "- Softwares, materials, etc\n",
    "- Data formats & sources, coordinates & transforms\n",
    "- Run through structural processing\n",
    "- MEG: gain matrix, simulate evoked responses\n",
    "- sEEG: gain matrix, simulate\n",
    "- Discussion"
   ]
  },
  {
   "cell_type": "markdown",
   "metadata": {
    "slideshow": {
     "slide_type": "subslide"
    }
   },
   "source": [
    "All the materials in this talk are available at \n",
    "\n",
    "    https://github.com/the-virtual-brain/tvb-node5/\n",
    "\n",
    "and these slides are available as an executable, interactive IPython/Jupyter notebook."
   ]
  },
  {
   "cell_type": "markdown",
   "metadata": {
    "slideshow": {
     "slide_type": "subslide"
    }
   },
   "source": [
    "The software used in this talk has been packaged as a Docker container, making it available on Windows, macOS, Linux and most cloud providers, with zero installation effort.\n",
    "\n",
    "Download the image:\n",
    "```bash\n",
    "docker pull maedoc/recon\n",
    "```\n",
    "and immediately run commands shown in this talk, e.g. FreeSurfers' pipeline\n",
    "```bash\n",
    "docker run --rm -it maedoc/recon recon-all ...\n",
    "```"
   ]
  },
  {
   "cell_type": "markdown",
   "metadata": {
    "slideshow": {
     "slide_type": "subslide"
    }
   },
   "source": [
    "## Keeping TVB up to date\n",
    "\n",
    "This container contains a recent clone of TVB's libraries, but let's stay up to date:"
   ]
  },
  {
   "cell_type": "code",
   "execution_count": 1,
   "metadata": {
    "slideshow": {
     "slide_type": "-"
    }
   },
   "outputs": [
    {
     "name": "stdout",
     "output_type": "stream",
     "text": [
      "Already on 'trunk'\n",
      "Your branch is up-to-date with 'origin/trunk'.\n",
      "remote: Counting objects: 10, done.\u001b[K\n",
      "remote: Compressing objects: 100% (10/10), done.\u001b[K\n",
      "remote: Total 10 (delta 4), reused 0 (delta 0), pack-reused 0\u001b[K\n",
      "Unpacking objects: 100% (10/10), done.\n",
      "From https://github.com/the-virtual-brain/tvb-library\n",
      "   6d842d8..c65ba20  trunk      -> origin/trunk\n",
      " * [new branch]      sys-stdout -> origin/sys-stdout\n",
      "First, rewinding head to replay your work on top of it...\n",
      "Fast-forwarded trunk to c65ba2009c6cc5e50b279e5eadfb5a5522b12c1b.\n"
     ]
    }
   ],
   "source": [
    "!(cd /opt/tvb-library; git checkout trunk; git pull --rebase)"
   ]
  },
  {
   "cell_type": "markdown",
   "metadata": {
    "slideshow": {
     "slide_type": "subslide"
    }
   },
   "source": [
    "Just to check, we've also got FreeSurfer, FSL, Mrtrix3, OpenMEEG, MNE available."
   ]
  },
  {
   "cell_type": "code",
   "execution_count": 2,
   "metadata": {
    "slideshow": {
     "slide_type": "-"
    }
   },
   "outputs": [
    {
     "name": "stdout",
     "output_type": "stream",
     "text": [
      "/opt/freesurfer/bin/mri_convert\n",
      "/usr/bin/fsl5.0-flirt\n",
      "/opt/mrtrix3/bin/mrconvert\n",
      "/usr/local/bin/om_assemble\n",
      "/opt/MNE-2.7.0-3106-Linux-x86_64/bin/mne_watershed_bem\n"
     ]
    }
   ],
   "source": [
    "!which mri_convert\n",
    "!which fsl5.0-flirt\n",
    "!which mrconvert\n",
    "!which om_assemble\n",
    "!which mne_watershed_bem"
   ]
  },
  {
   "cell_type": "markdown",
   "metadata": {},
   "source": [
    "Finally, let's get the modules we'll be using imported:"
   ]
  },
  {
   "cell_type": "code",
   "execution_count": 3,
   "metadata": {
    "slideshow": {
     "slide_type": "-"
    }
   },
   "outputs": [
    {
     "name": "stdout",
     "output_type": "stream",
     "text": [
      "Populating the interactive namespace from numpy and matplotlib\n"
     ]
    },
    {
     "name": "stderr",
     "output_type": "stream",
     "text": [
      "/opt/conda/lib/python2.7/site-packages/matplotlib/__init__.py:1405: UserWarning: \n",
      "This call to matplotlib.use() has no effect because the backend has already\n",
      "been chosen; matplotlib.use() must be called *before* pylab, matplotlib.pyplot,\n",
      "or matplotlib.backends is imported for the first time.\n",
      "\n",
      "  warnings.warn(_use_error_msg)\n"
     ]
    }
   ],
   "source": [
    "%pylab inline\n",
    "from tvb.simulator.lab import *\n",
    "import nibabel as nb\n",
    "import mne"
   ]
  },
  {
   "cell_type": "markdown",
   "metadata": {
    "slideshow": {
     "slide_type": "slide"
    }
   },
   "source": [
    "# Structural processing\n",
    "\n",
    "\n",
    "- w/ FreeSurfer (https://surfer.nmr.mgh.harvard.edu)\n",
    "    - Label T1\n",
    "    - Extract cortical surfaces\n",
    "- w/ Mrtrix (http://www.mrtrix.org)\n",
    "    - Estimate fiber orientations\n",
    "    - Perform tractography\n",
    "    - Construct connectome\n"
   ]
  },
  {
   "cell_type": "markdown",
   "metadata": {
    "slideshow": {
     "slide_type": "subslide"
    }
   },
   "source": [
    "Invoking the `recon-all` command, \n",
    "\n",
    "```bash\n",
    "recon-all \\\n",
    "    -s ol \\\n",
    "    -i /opt/raw/t1 \\\n",
    "    -all\n",
    "```\n",
    "\n",
    "yields verbose output ending with something like \n",
    "\n",
    "```\n",
    "Started at Fri Mar 31 20:11:25 CEST 2017 \n",
    "Ended   at Sat Apr 1 02:05:45 CEST 2017\n",
    "#@#%# recon-all-run-time-hours 5.906\n",
    "recon-all -s ol finished without error at Sat Apr  1 02:05:45 CEST 2017\n",
    "```"
   ]
  },
  {
   "cell_type": "markdown",
   "metadata": {
    "slideshow": {
     "slide_type": "subslide"
    }
   },
   "source": [
    "FreeSurfer produces excellent cortical surfaces, but resolution generally too high for simulation or gain matrix calculation:"
   ]
  },
  {
   "cell_type": "code",
   "execution_count": 52,
   "metadata": {
    "slideshow": {
     "slide_type": "-"
    }
   },
   "outputs": [
    {
     "name": "stdout",
     "output_type": "stream",
     "text": [
      "num vertices: 110721\r\n"
     ]
    }
   ],
   "source": [
    "!mris_info $SUBJECTS_DIR/ol/surf/lh.pial 2>&1 | grep \"num vertices\""
   ]
  },
  {
   "cell_type": "markdown",
   "metadata": {},
   "source": [
    "Downsample via the `fsaverage5` subject, "
   ]
  },
  {
   "cell_type": "code",
   "execution_count": 46,
   "metadata": {},
   "outputs": [
    {
     "name": "stdout",
     "output_type": "stream",
     "text": [
      "num vertices: 10242\n"
     ]
    }
   ],
   "source": [
    "%%bash\n",
    "\n",
    "mri_surf2surf \\\n",
    "    --srcsubject ol \\\n",
    "    --trgsubject fsaverage5 \\\n",
    "    --hemi lh \\\n",
    "    --sval-xyz pial \\\n",
    "    --tval pial.ol \\\n",
    "    --tval-xyz $SUBJECTS_DIR/ol/mri/T1.mgz > /dev/null\n",
    "    \n",
    "mris_info $SUBJECTS_DIR/fsaverage5/surf/lh.pial.ol 2>&1 | grep \"num vertices\""
   ]
  },
  {
   "cell_type": "markdown",
   "metadata": {
    "slideshow": {
     "slide_type": "subslide"
    }
   },
   "source": [
    "Diffusion data processing"
   ]
  },
  {
   "cell_type": "code",
   "execution_count": 53,
   "metadata": {
    "collapsed": true,
    "slideshow": {
     "slide_type": "-"
    }
   },
   "outputs": [],
   "source": [
    "%%bash\n",
    "sd=$SUBJECTS_DIR/ol\n",
    "\n",
    "# estimate fiber orientations\n",
    "dwi2response tournier $sd/dwi/{raw.mif,response.txt}\n",
    "dwi2fod csd $sd/dwi/{raw.mif,response.txt} $sd/dwi/fod.mif\n",
    "\n",
    "# tractography\n",
    "dwi2mask $sd/dwi/{raw,mask}.mif\n",
    "tckgen $sd/dwi/{fod.mif,all.tck} -mask $sd/dwi/mask.mif -seed_image $sd/dwi/mask.mif -number 5M"
   ]
  },
  {
   "cell_type": "markdown",
   "metadata": {
    "slideshow": {
     "slide_type": "fragment"
    }
   },
   "source": [
    "![tracto](img/tracto.png)"
   ]
  },
  {
   "cell_type": "markdown",
   "metadata": {
    "slideshow": {
     "slide_type": "subslide"
    }
   },
   "source": [
    "Register T1 & diffusion, move ROI image to diffusion space"
   ]
  },
  {
   "cell_type": "code",
   "execution_count": 56,
   "metadata": {
    "collapsed": true,
    "slideshow": {
     "slide_type": "-"
    }
   },
   "outputs": [],
   "source": [
    "%%bash\n",
    "\n",
    "dwiextract -bzero $sd/dwi/{raw.mif,bzero.nii.gz}\n",
    "\n",
    "flirt -ref $sd/dwi/bzero.nii.gz -in $sd/mri/T1.RAS.nii.gz \\\n",
    "    -omat $sd/dwi/t2d.mat -out $sd/dwi/T1_in_bzero.nii.gz $regopts\n",
    "    \n",
    "flirt -applyxfm -interp nearestneighbour -in $sd/mri/aparc+aseg.nii.gz \\\n",
    "    -ref $sd/dwi/bzero.nii.gz -init $sd/dwi/t2d.mat -out $sd/dwi/aa.nii.gz"
   ]
  },
  {
   "cell_type": "markdown",
   "metadata": {
    "slideshow": {
     "slide_type": "fragment"
    }
   },
   "source": [
    "![coreg-dwi-aa](img/coreg-dwi-aa.png)"
   ]
  },
  {
   "cell_type": "markdown",
   "metadata": {
    "slideshow": {
     "slide_type": "subslide"
    }
   },
   "source": [
    "Build the connectome"
   ]
  },
  {
   "cell_type": "code",
   "execution_count": null,
   "metadata": {
    "collapsed": true
   },
   "outputs": [],
   "source": [
    "%%bash\n",
    "labelconvert $sd/dwi/aa.nii.gz FreeSurferColorLUT.txt fs_default.txt $sd/dwi/label.mif\n",
    "tck2connectome $sd/dwi/{all.tck,label.mif} counts.txt\n",
    "tck2connectome $sd/dwi/{all.tck,label.mif} lengths.txt -scale_length -stat_edge mean"
   ]
  },
  {
   "cell_type": "code",
   "execution_count": 69,
   "metadata": {
    "slideshow": {
     "slide_type": "fragment"
    }
   },
   "outputs": [
    {
     "data": {
      "image/png": "[encoded data removed]",
      "text/plain": [
       "<matplotlib.figure.Figure at 0x7f69bfde6950>"
      ]
     },
     "metadata": {},
     "output_type": "display_data"
    }
   ],
   "source": [
    "figure(figsize=(14, 5))\n",
    "dwi_path = '/opt/freesurfer/subjects/ol/dwi/'\n",
    "subplot(121), imshow(log(loadtxt(dwi_path + 'counts.txt') + 1)), colorbar(), title('log Counts')\n",
    "subplot(122), imshow(loadtxt(dwi_path + 'lengths.txt')), colorbar(), title('Lengths');"
   ]
  },
  {
   "cell_type": "markdown",
   "metadata": {
    "slideshow": {
     "slide_type": "slide"
    }
   },
   "source": [
    "# MEG / EEG\n",
    "\n",
    "Magneto- and electroencephalography measure the magentic and electric fields generated by **oriented**, dendritic currents in neural populations\n",
    "![meg00](img/meg00.png)\n",
    "\n",
    "_Baillet 2017 Nature Nsci_"
   ]
  },
  {
   "cell_type": "markdown",
   "metadata": {
    "slideshow": {
     "slide_type": "subslide"
    }
   },
   "source": [
    "![meg01](img/meg01.png)"
   ]
  },
  {
   "cell_type": "markdown",
   "metadata": {
    "slideshow": {
     "slide_type": "subslide"
    }
   },
   "source": [
    "Forward model\n",
    "\n",
    "1. Source space (e.g. cortical surfaces)\n",
    "2. Volume conduction (e.g. boundary elements)\n",
    "3. Sensor space (e.g. MEG sensors)\n",
    "\n",
    "(1) & (2) are produced from the structural T1, (3) is from the acquisition: another coregistration is required. "
   ]
  },
  {
   "cell_type": "markdown",
   "metadata": {
    "slideshow": {
     "slide_type": "subslide"
    }
   },
   "source": [
    "MEG - T1 alignment"
   ]
  },
  {
   "cell_type": "markdown",
   "metadata": {
    "slideshow": {
     "slide_type": "-"
    }
   },
   "source": [
    "![meg-mri-alignment.png](img/meg-mri-alignment.png)"
   ]
  },
  {
   "cell_type": "markdown",
   "metadata": {},
   "source": [
    "Done w/ `mne_analyze`, but `mne coreg`, Brainstorm are good alternatives"
   ]
  },
  {
   "cell_type": "markdown",
   "metadata": {
    "slideshow": {
     "slide_type": "subslide"
    }
   },
   "source": [
    "As with the DWI - T1 coregistration, we want to check everything is aligned correctly:"
   ]
  },
  {
   "cell_type": "markdown",
   "metadata": {},
   "source": [
    "![full-head-model.png](img/full-head-model.png)"
   ]
  },
  {
   "cell_type": "markdown",
   "metadata": {
    "slideshow": {
     "slide_type": "slide"
    }
   },
   "source": [
    "# sEEG\n",
    "\n",
    "Stereo-electroencephalography measures electric fields inside the skull with stereotactic surgically implanted electrodes. \n",
    "\n",
    "In Marseille, this is a common intervention for untreatable epilepsy, where the goal is to localize an epileptogenic zone to be removed by surgical resection."
   ]
  },
  {
   "cell_type": "markdown",
   "metadata": {
    "slideshow": {
     "slide_type": "subslide"
    }
   },
   "source": [
    "![seeg-schema-front](img/seeg-schema-front.png)"
   ]
  },
  {
   "cell_type": "markdown",
   "metadata": {
    "slideshow": {
     "slide_type": "subslide"
    }
   },
   "source": [
    "![seeg](img/seeg_tf_pre_ictal2.PNG)"
   ]
  },
  {
   "cell_type": "markdown",
   "metadata": {
    "collapsed": true,
    "slideshow": {
     "slide_type": "slide"
    }
   },
   "source": [
    "# Discussion\n",
    "\n",
    "### Topics covered\n",
    "\n",
    "- Structural processing\n",
    "- Building a volume conduction model & gain matrix\n",
    "- Simulating evoked & spontaneous activity in sensor space\n",
    "\n",
    "### Questions\n",
    "\n",
    "- How to handle structures without known orientation?\n"
   ]
  }
 ],
 "metadata": {
  "celltoolbar": "Slideshow",
  "kernelspec": {
   "display_name": "Python 2",
   "language": "python",
   "name": "python2"
  },
  "language_info": {
   "codemirror_mode": {
    "name": "ipython",
    "version": 2
   },
   "file_extension": ".py",
   "mimetype": "text/x-python",
   "name": "python",
   "nbconvert_exporter": "python",
   "pygments_lexer": "ipython2",
   "version": "2.7.13"
  }
 },
 "nbformat": 4,
 "nbformat_minor": 2
}
